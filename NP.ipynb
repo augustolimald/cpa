{
  "nbformat": 4,
  "nbformat_minor": 0,
  "metadata": {
    "colab": {
      "provenance": [],
      "collapsed_sections": [
        "zNI1kX0yyDrs",
        "vk4vOTkKyLB-",
        "fFiGho5CyU3t"
      ],
      "toc_visible": true,
      "include_colab_link": true
    },
    "kernelspec": {
      "name": "python3",
      "display_name": "Python 3"
    },
    "language_info": {
      "name": "python"
    }
  },
  "cells": [
    {
      "cell_type": "markdown",
      "metadata": {
        "id": "view-in-github",
        "colab_type": "text"
      },
      "source": [
        "<a href=\"https://colab.research.google.com/github/augustolimald/cpa/blob/main/NP.ipynb\" target=\"_parent\"><img src=\"https://colab.research.google.com/assets/colab-badge.svg\" alt=\"Open In Colab\"/></a>"
      ]
    },
    {
      "cell_type": "markdown",
      "source": [
        "# EFC1 GCC253 - Complexidade e Projeto de Algoritmos\n",
        "\n",
        "\n",
        "> **Prof.: Douglas H. S. Abreu**\n",
        "\n",
        "\n",
        "**Aluno**: Augusto César Rodrigues Lima\n",
        "\n",
        "**Matricula**: 201910386\n",
        "\n",
        "**Turma**: 14A\n",
        "\n",
        "**Link do repositório GitHub:** https://github.com/augustolimald/cpa"
      ],
      "metadata": {
        "id": "XAdlKnDBj5uB"
      }
    },
    {
      "cell_type": "markdown",
      "source": [
        "# Funções Auxiliares\n",
        "\n"
      ],
      "metadata": {
        "id": "TF2ALvc6EPcP"
      }
    },
    {
      "cell_type": "markdown",
      "source": [
        "## Aumentar Recursão\n",
        "\n",
        "O Google Collab estava dando erro para chamadas em arrays acima de 1000 elementos. A linha abaixo aumenta o threshold para que isso não aconteça"
      ],
      "metadata": {
        "id": "4XJf4k9hQZrx"
      }
    },
    {
      "cell_type": "code",
      "source": [
        "import sys\n",
        "sys.setrecursionlimit(1500)\n"
      ],
      "metadata": {
        "id": "ci8JasPDQaUq"
      },
      "execution_count": 88,
      "outputs": []
    },
    {
      "cell_type": "markdown",
      "source": [
        "## Importações e Variáveis globais"
      ],
      "metadata": {
        "id": "J3d6JlRUxREN"
      }
    },
    {
      "cell_type": "code",
      "source": [
        "import numpy as np\n",
        "import math\n",
        "\n",
        "global_1=0"
      ],
      "metadata": {
        "id": "Ur1DVGQAxac4"
      },
      "execution_count": 89,
      "outputs": []
    },
    {
      "cell_type": "markdown",
      "source": [
        "## Gerar Números Aleatório"
      ],
      "metadata": {
        "id": "EcK_y67GCUTM"
      }
    },
    {
      "cell_type": "code",
      "source": [
        "import random\n",
        "\n",
        "def generateNumber():\n",
        "  return random.randint(1, 1000)\n",
        "\n",
        "\n",
        "def generateArray(size):\n",
        "  array = []\n",
        "\n",
        "  for i in range(size):\n",
        "    array.append(generateNumber())\n",
        "\n",
        "  return array"
      ],
      "metadata": {
        "id": "pW2YjeuZCWi7"
      },
      "execution_count": 90,
      "outputs": []
    },
    {
      "cell_type": "markdown",
      "source": [
        "## Tempo de Execução"
      ],
      "metadata": {
        "id": "3nDv2sfAxsB5"
      }
    },
    {
      "cell_type": "code",
      "source": [
        "import time\n",
        "\n",
        "def currentTime():\n",
        "  return round(time.time() * 1000)\n",
        "\n",
        "def calculateExecutionTime(parameters, algorithm):\n",
        "  startTime = currentTime()\n",
        "  algorithm(parameters)\n",
        "  endTime = currentTime()\n",
        "  return endTime - startTime"
      ],
      "metadata": {
        "id": "QSyXh8bNxuMc"
      },
      "execution_count": 91,
      "outputs": []
    },
    {
      "cell_type": "markdown",
      "source": [
        "## Gerar Gráficos"
      ],
      "metadata": {
        "id": "rbCayHIbsjon"
      }
    },
    {
      "cell_type": "code",
      "source": [
        "import matplotlib.pyplot as plt\n",
        "\n",
        "def generateGraph(title, xlabel, ylabel, dataset):\n",
        "  for data in dataset:\n",
        "    plt.plot(np.array(data['xarray']), np.array(data['yarray']), label=data['label'], color=data['color'])\n",
        "\n",
        "  plt.title(title)\n",
        "  plt.xlabel(xlabel)\n",
        "  plt.ylabel(ylabel)\n",
        "  plt.legend()\n",
        "  plt.show()"
      ],
      "metadata": {
        "id": "s-LdYKtuETba"
      },
      "execution_count": 92,
      "outputs": []
    },
    {
      "cell_type": "markdown",
      "source": [
        "# Problema NP\n",
        "\n",
        "\n"
      ],
      "metadata": {
        "id": "kPNpzNYwkKAO"
      }
    },
    {
      "cell_type": "markdown",
      "source": [
        "## Problema Subsequência crescente máxima"
      ],
      "metadata": {
        "id": "GcRXWP6fAcEi"
      }
    },
    {
      "cell_type": "code",
      "source": [
        "def algorithm(array):\n",
        "  N = len(array)\n",
        "  P = [None for i in range(N)]\n",
        "  M = [None for i in range(N + 1)]\n",
        "\n",
        "  L = 0\n",
        "  for i in range(0, N):\n",
        "    lower = 1\n",
        "    higher = L\n",
        "    while lower <= higher:\n",
        "      middle = math.ceil((lower + higher) / 2)\n",
        "      if array[M[middle]] < array[i]:\n",
        "        lower = middle + 1\n",
        "      else:\n",
        "        higher = middle - 1\n",
        "\n",
        "    newL = lower\n",
        "\n",
        "    P[i] = M[newL-1]\n",
        "    M[newL] = i\n",
        "\n",
        "    if newL > L:\n",
        "      L = newL\n",
        "\n",
        "  S = [None for i in range(L)]\n",
        "  k = M[L]\n",
        "  for i in range(L-1, -1, -1):\n",
        "    S[i] = array[k]\n",
        "    k = P[k]\n",
        "\n",
        "  return S\n",
        "\n",
        "input = [0, 8, 4, 12, 2, 10, 6, 14, 1, 9, 5, 13, 3, 11, 7, 15]\n",
        "expectedOutput = [0, 2, 6, 9, 11, 15]\n",
        "testResult = algorithm(input)\n"
      ],
      "metadata": {
        "id": "TeWoPSv0AePl"
      },
      "execution_count": 93,
      "outputs": []
    },
    {
      "cell_type": "code",
      "source": [
        "xarray = []\n",
        "yarray = []\n",
        "\n",
        "for number in range(1, 20000, 100):\n",
        "  xarray.append(number)\n",
        "\n",
        "  input = generateArray(number)\n",
        "\n",
        "  yarray.append(calculateExecutionTime(input, algorithm))\n",
        "\n",
        "generateGraph('Problema Subsequência crescente máxima', 'Number', 'Time (ms)', [\n",
        "  {\n",
        "    'label': 'Algoritmo',\n",
        "    'color': 'blue',\n",
        "    'xarray': xarray,\n",
        "    'yarray': yarray\n",
        "  }\n",
        "])"
      ],
      "metadata": {
        "colab": {
          "base_uri": "https://localhost:8080/",
          "height": 295
        },
        "id": "4DVTENB8Aef_",
        "outputId": "8498bde9-a60b-4136-d06c-dc7d492f7236"
      },
      "execution_count": 94,
      "outputs": [
        {
          "output_type": "display_data",
          "data": {
            "text/plain": [
              "<Figure size 432x288 with 1 Axes>"
            ],
            "image/png": "[encoded data removed]"
          },
          "metadata": {
            "needs_background": "light"
          }
        }
      ]
    }
  ]
}