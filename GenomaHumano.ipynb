{
 "cells": [
  {
   "cell_type": "markdown",
   "metadata": {
    "id": "XAdlKnDBj5uB"
   },
   "source": [
    "# Projeto Genoma Humano\n",
    "\n",
    "\n",
    "> **Prof.: Douglas H. S. Abreu**\n",
    "\n",
    "\n",
    "**Alunos**: \n",
    "\n",
    "Augusto César Rodrigues Lima\n",
    "\n",
    "Chrystian Arriel Amaral\n",
    "\n",
    "Henrique Silva Rabelo\n",
    "\n",
    "**Turma**: 14A\n",
    "\n",
    "**Link do repositório GitHub:** https://github.com/augustolimald/cpa"
   ]
  },
  {
   "cell_type": "markdown",
   "metadata": {
    "id": "TF2ALvc6EPcP"
   },
   "source": [
    "# Funções Auxiliares\n",
    "\n"
   ]
  },
  {
   "cell_type": "markdown",
   "metadata": {
    "id": "J3d6JlRUxREN"
   },
   "source": [
    "## Importações e Variáveis globais"
   ]
  },
  {
   "cell_type": "code",
   "execution_count": 1,
   "metadata": {
    "id": "Ur1DVGQAxac4"
   },
   "outputs": [],
   "source": [
    "import numpy as np\n",
    "\n",
    "bases = ['A', 'C', 'G', 'T']"
   ]
  },
  {
   "cell_type": "markdown",
   "metadata": {
    "id": "a3bqt7ZssdAC"
   },
   "source": [
    "## Gerar Fitas Aleatórias"
   ]
  },
  {
   "cell_type": "code",
   "execution_count": 2,
   "metadata": {
    "id": "0cRp1hdTsi5T"
   },
   "outputs": [],
   "source": [
    "import random\n",
    "\n",
    "def getRandomBase():\n",
    "  index = random.randint(0, len(bases) - 1)\n",
    "  return bases[index]\n",
    "\n",
    "\n",
    "def generateStrand(size):\n",
    "  strand = ''\n",
    "\n",
    "  for i in range(size):\n",
    "    strand += getRandomBase()\n",
    "\n",
    "  return strand"
   ]
  },
  {
   "cell_type": "markdown",
   "metadata": {
    "id": "_aSZxWeBsy2M"
   },
   "source": [
    "## Tempo de Execução"
   ]
  },
  {
   "cell_type": "code",
   "execution_count": 3,
   "metadata": {
    "id": "j0wsQ_czs1TJ"
   },
   "outputs": [],
   "source": [
    "import time\n",
    "\n",
    "def currentTime():\n",
    "  return round(time.time() * 1000)\n",
    "\n",
    "def calculateExecutionTime(strand1, strand2, algorithm):\n",
    "  startTime = currentTime()\n",
    "  strand = algorithm(strand1, strand2)\n",
    "  endTime = currentTime()\n",
    "\n",
    "  executionTime = endTime - startTime\n",
    "\n",
    "  return executionTime"
   ]
  },
  {
   "cell_type": "markdown",
   "metadata": {
    "id": "rbCayHIbsjon"
   },
   "source": [
    "## Gerar Gráficos"
   ]
  },
  {
   "cell_type": "code",
   "execution_count": 4,
   "metadata": {
    "id": "s-LdYKtuETba"
   },
   "outputs": [],
   "source": [
    "import matplotlib.pyplot as plt\n",
    "\n",
    "# Dataset Format\n",
    "# [\n",
    "#    {\n",
    "#       label: 'string',\n",
    "#       color: 'string',\n",
    "#       xarray: [number],\n",
    "#       yarray: [number]\n",
    "#    } \n",
    "# ]\n",
    "\n",
    "def generateGraph(title, xlabel, ylabel, dataset):\n",
    "  for data in dataset:\n",
    "    plt.plot(np.array(data['xarray']), np.array(data['yarray']), label=data['label'], color=data['color'])\n",
    "\n",
    "  plt.title(title)\n",
    "  plt.xlabel(xlabel)\n",
    "  plt.ylabel(ylabel)\n",
    "  plt.legend()\n",
    "  plt.show()"
   ]
  },
  {
   "cell_type": "markdown",
   "metadata": {
    "id": "ZQ_9VVp65CS5"
   },
   "source": [
    "# Implementação"
   ]
  },
  {
   "cell_type": "markdown",
   "metadata": {
    "id": "vV5iE7pc_wI4"
   },
   "source": [
    "## Métodos Auxiliares"
   ]
  },
  {
   "cell_type": "code",
   "execution_count": 5,
   "metadata": {
    "id": "Scyvq5JG_yx4"
   },
   "outputs": [],
   "source": [
    "import itertools\n",
    "\n",
    "def matchSubsequence(strand, subsequence):\n",
    "  strandIndex = 0\n",
    "\n",
    "  for base in subsequence:\n",
    "    found = False\n",
    "    \n",
    "    while (strandIndex < len(strand)):\n",
    "      if (strand[strandIndex] == base):\n",
    "        found = True\n",
    "        strandIndex += 1\n",
    "        break\n",
    "\n",
    "      strandIndex += 1\n",
    "\n",
    "    if not found:\n",
    "      return False\n",
    "\n",
    "  return True"
   ]
  },
  {
   "cell_type": "markdown",
   "metadata": {
    "id": "6u2r8yJ75GqU"
   },
   "source": [
    "## Força Bruta"
   ]
  },
  {
   "cell_type": "markdown",
   "metadata": {
    "id": "S7dBffCC_7uR"
   },
   "source": [
    "### Versão 1\n",
    "Sempre verifica todas as entradas"
   ]
  },
  {
   "cell_type": "code",
   "execution_count": 6,
   "metadata": {
    "id": "5SsCY5P7__bh"
   },
   "outputs": [],
   "source": [
    "def getBiggestSubsequenceBruteForceV1(strand1, strand2):\n",
    "  biggestSubsequence = ''\n",
    "\n",
    "  for size in range(1, len(strand1)):\n",
    "    array = list(itertools.combinations(strand1, size))\n",
    "    for item in array:\n",
    "      subsequence = ''.join(item)\n",
    "    \n",
    "      if len(subsequence) > len(biggestSubsequence) and matchSubsequence(strand2, subsequence):\n",
    "        biggestSubsequence = subsequence           \n",
    "\n",
    "  return biggestSubsequence"
   ]
  },
  {
   "cell_type": "markdown",
   "metadata": {
    "id": "nnRqEJq_ACxE"
   },
   "source": [
    "### Versão 2\n",
    "Executa no ordem descrescente\n",
    "\n",
    "Só executa até encontrar a maior"
   ]
  },
  {
   "cell_type": "code",
   "execution_count": 7,
   "metadata": {
    "colab": {
     "base_uri": "https://localhost:8080/",
     "height": 371
    },
    "id": "Hkmq7XQC5ITy",
    "outputId": "4536c7b7-b897-4f77-8f4f-a48e439221d6"
   },
   "outputs": [
    {
     "name": "stdout",
     "output_type": "stream",
     "text": [
      "True\n"
     ]
    }
   ],
   "source": [
    "def getBiggestSubsequenceBruteForceV2(strand1, strand2):\n",
    "  for size in range(len(strand1), 1, -1):\n",
    "    array = list(itertools.combinations(strand1, size))\n",
    "\n",
    "    for item in array:\n",
    "      subsequence = ''.join(item)\n",
    "      \n",
    "      if matchSubsequence(strand2, subsequence):\n",
    "        return subsequence\n",
    "\n",
    "  return ''\n",
    "\n",
    "strand = getBiggestSubsequenceBruteForceV2('ACCGGTCGAGTGCGCGGAAGCCGGCCGAA', 'GTCGTTCGGAATGCCGTTGCTCTGTAAA')\n",
    "print(strand == 'GTCGTCGGAAGCCGGCCGAA')"
   ]
  },
  {
   "cell_type": "markdown",
   "metadata": {
    "id": "-IcrEsCq5IzB"
   },
   "source": [
    "## Programação Dinâmica"
   ]
  },
  {
   "cell_type": "code",
   "execution_count": 8,
   "metadata": {
    "id": "dkMFyOei5LKF"
   },
   "outputs": [
    {
     "name": "stdout",
     "output_type": "stream",
     "text": [
      "True\n"
     ]
    }
   ],
   "source": [
    "def getResult(b, x, i, j, result):\n",
    "  if i == 0 or j == 0:\n",
    "    return result\n",
    "  if b[i][j] == '\\\\':\n",
    "    return getResult(b, x, i - 1, j - 1, result) + x[i - 1]\n",
    "  elif b[i][j] == '|':\n",
    "    return getResult(b, x, i - 1, j, result)\n",
    "  else:\n",
    "    return getResult(b, x, i, j - 1, result)\n",
    "\n",
    "def getBiggestSubsequenceDynamically(strand1, strand2):\n",
    "  size1 = len(strand1)\n",
    "  size2 = len(strand2)\n",
    "\n",
    "  b = [['.' for j in range(size2 + 1)] for i in range(size1 + 1)]\n",
    "  c = [[1 for j in range(size2 + 1)] for i in range(size1 + 1)]\n",
    "\n",
    "  for i in range(1, size1 + 1):\n",
    "    c[i][0] = 0\n",
    "\n",
    "  for i in range(0, size2 + 1):\n",
    "    c[0][i] = 0\n",
    "\n",
    "  for i in range(1, size1 + 1):\n",
    "    for j in range(1, size2 + 1):\n",
    "      if strand1[i - 1] == strand2[j - 1]:\n",
    "        c[i][j] = c[i - 1][j - 1] + 1\n",
    "        b[i][j] = '\\\\'\n",
    "      elif c[i - 1][j] >= c[i][j - 1]:\n",
    "        c[i][j] = c[i - 1][j]\n",
    "        b[i][j] = '|'\n",
    "      else: \n",
    "        c[i][j] = c[i][j - 1]\n",
    "        b[i][j] = '-'\n",
    "\n",
    "  return getResult(b, strand1, size1, size2, '')\n",
    "\n",
    "strand = getBiggestSubsequenceDynamically('ACCGGTCGAGTGCGCGGAAGCCGGCCGAA', 'GTCGTTCGGAATGCCGTTGCTCTGTAAA')\n",
    "print(strand == 'GTCGTCGGAAGCCGGCCGAA')"
   ]
  },
  {
   "cell_type": "markdown",
   "metadata": {
    "id": "ONwmPPu55PJi"
   },
   "source": [
    "# Comparação"
   ]
  },
  {
   "cell_type": "code",
   "execution_count": 9,
   "metadata": {
    "id": "5FzKtmpL5RQL"
   },
   "outputs": [
    {
     "name": "stdout",
     "output_type": "stream",
     "text": [
      "Calculando com  0 caracteres\n",
      "Calculando com  1 caracteres\n",
      "Calculando com  2 caracteres\n",
      "Calculando com  3 caracteres\n",
      "Calculando com  4 caracteres\n",
      "Calculando com  5 caracteres\n",
      "Calculando com  6 caracteres\n",
      "Calculando com  7 caracteres\n",
      "Calculando com  8 caracteres\n",
      "Calculando com  9 caracteres\n",
      "Calculando com  10 caracteres\n",
      "Calculando com  11 caracteres\n",
      "Calculando com  12 caracteres\n",
      "Calculando com  13 caracteres\n",
      "Calculando com  14 caracteres\n",
      "Calculando com  15 caracteres\n",
      "Calculando com  16 caracteres\n",
      "Calculando com  17 caracteres\n",
      "Calculando com  18 caracteres\n",
      "Calculando com  19 caracteres\n",
      "Calculando com  20 caracteres\n",
      "Calculando com  21 caracteres\n",
      "Calculando com  22 caracteres\n",
      "Calculando com  23 caracteres\n",
      "Calculando com  24 caracteres\n",
      "Calculando com  25 caracteres\n",
      "Calculando com  26 caracteres\n",
      "Calculando com  27 caracteres\n",
      "Calculando com  28 caracteres\n"
     ]
    },
    {
     "data": {
      "image/png": "[encoded data removed]",
      "text/plain": [
       "<Figure size 432x288 with 1 Axes>"
      ]
     },
     "metadata": {
      "needs_background": "light"
     },
     "output_type": "display_data"
    }
   ],
   "source": [
    "sizes = []\n",
    "bruteForceTimes = []\n",
    "dynamicTimes = []\n",
    "\n",
    "for size in range(29):\n",
    "  print('Calculando com ', size, 'caracteres')\n",
    "  sizes.append(size)\n",
    "\n",
    "  strand1 = generateStrand(size)\n",
    "  strand2 = generateStrand(size)\n",
    "\n",
    "  bruteForceTimes.append(calculateExecutionTime(strand1, strand2, getBiggestSubsequenceBruteForceV2))\n",
    "  dynamicTimes.append(calculateExecutionTime(strand1, strand2, getBiggestSubsequenceDynamically))\n",
    "\n",
    "generateGraph('Strand Comparasions', 'Strand Size', 'Time (ms)', [\n",
    "    {\n",
    "        'label': 'Brute Force',\n",
    "        'color': 'red',\n",
    "        'xarray': sizes,\n",
    "        'yarray': bruteForceTimes\n",
    "    },\n",
    "    {\n",
    "        'label': 'Dynamic',\n",
    "        'color': 'blue',\n",
    "        'xarray': sizes,\n",
    "        'yarray': dynamicTimes\n",
    "    }\n",
    "])"
   ]
  }
 ],
 "metadata": {
  "colab": {
   "collapsed_sections": [],
   "provenance": [],
   "toc_visible": true
  },
  "kernelspec": {
   "display_name": "Python 3 (ipykernel)",
   "language": "python",
   "name": "python3"
  },
  "language_info": {
   "codemirror_mode": {
    "name": "ipython",
    "version": 3
   },
   "file_extension": ".py",
   "mimetype": "text/x-python",
   "name": "python",
   "nbconvert_exporter": "python",
   "pygments_lexer": "ipython3",
   "version": "3.9.12"
  }
 },
 "nbformat": 4,
 "nbformat_minor": 1
}
