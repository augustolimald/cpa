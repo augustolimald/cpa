{
  "nbformat": 4,
  "nbformat_minor": 0,
  "metadata": {
    "colab": {
      "name": "Fibonacci.ipynb",
      "provenance": [],
      "collapsed_sections": [
        "zNI1kX0yyDrs",
        "vk4vOTkKyLB-",
        "fFiGho5CyU3t"
      ],
      "toc_visible": true,
      "include_colab_link": true
    },
    "kernelspec": {
      "name": "python3",
      "display_name": "Python 3"
    },
    "language_info": {
      "name": "python"
    }
  },
  "cells": [
    {
      "cell_type": "markdown",
      "metadata": {
        "id": "view-in-github",
        "colab_type": "text"
      },
      "source": [
        "<a href=\"https://colab.research.google.com/github/augustolimald/cpa/blob/main/Fibonacci.ipynb\" target=\"_parent\"><img src=\"https://colab.research.google.com/assets/colab-badge.svg\" alt=\"Open In Colab\"/></a>"
      ]
    },
    {
      "cell_type": "markdown",
      "source": [
        "# EFC1 GCC253 - Complexidade e Projeto de Algoritmos\n",
        "\n",
        "\n",
        "> **Prof.: Douglas H. S. Abreu**\n",
        "\n",
        "\n",
        "**Aluno**: Augusto César Rodrigues Lima\n",
        "\n",
        "**Matricula**: 201910386\n",
        "\n",
        "**Turma**: 14A\n",
        "\n",
        "**Link do repositório GitHub:** https://github.com/augustolimald/cpa"
      ],
      "metadata": {
        "id": "XAdlKnDBj5uB"
      }
    },
    {
      "cell_type": "markdown",
      "source": [
        "# Funções Auxiliares\n",
        "\n"
      ],
      "metadata": {
        "id": "TF2ALvc6EPcP"
      }
    },
    {
      "cell_type": "markdown",
      "source": [
        "## Aumentar Recursão\n",
        "\n",
        "O Google Collab estava dando erro para chamadas em arrays acima de 1000 elementos. A linha abaixo aumenta o threshold para que isso não aconteça"
      ],
      "metadata": {
        "id": "4XJf4k9hQZrx"
      }
    },
    {
      "cell_type": "code",
      "source": [
        "import sys\n",
        "sys.setrecursionlimit(1500)\n"
      ],
      "metadata": {
        "id": "ci8JasPDQaUq"
      },
      "execution_count": 54,
      "outputs": []
    },
    {
      "cell_type": "markdown",
      "source": [
        "## Importações e Variáveis globais"
      ],
      "metadata": {
        "id": "J3d6JlRUxREN"
      }
    },
    {
      "cell_type": "code",
      "source": [
        "import numpy as np\n",
        "\n",
        "global_1=0"
      ],
      "metadata": {
        "id": "Ur1DVGQAxac4"
      },
      "execution_count": 55,
      "outputs": []
    },
    {
      "cell_type": "markdown",
      "source": [
        "## Tempo de Execução"
      ],
      "metadata": {
        "id": "3nDv2sfAxsB5"
      }
    },
    {
      "cell_type": "code",
      "source": [
        "import time\n",
        "\n",
        "def currentTime():\n",
        "  return round(time.time() * 1000)\n",
        "\n",
        "def calculateExecutionTime(number, algorithm):\n",
        "  startTime = currentTime()\n",
        "  algorithm(number)\n",
        "  endTime = currentTime()\n",
        "  return endTime - startTime"
      ],
      "metadata": {
        "id": "QSyXh8bNxuMc"
      },
      "execution_count": 56,
      "outputs": []
    },
    {
      "cell_type": "markdown",
      "source": [
        "## Gerar Gráficos"
      ],
      "metadata": {
        "id": "rbCayHIbsjon"
      }
    },
    {
      "cell_type": "code",
      "source": [
        "import matplotlib.pyplot as plt\n",
        "\n",
        "def generateGraph(title, xlabel, ylabel, dataset):\n",
        "  for data in dataset:\n",
        "    plt.plot(np.array(data['xarray']), np.array(data['yarray']), label=data['label'], color=data['color'])\n",
        "\n",
        "  plt.title(title)\n",
        "  plt.xlabel(xlabel)\n",
        "  plt.ylabel(ylabel)\n",
        "  plt.legend()\n",
        "  plt.show()"
      ],
      "metadata": {
        "id": "s-LdYKtuETba"
      },
      "execution_count": 57,
      "outputs": []
    },
    {
      "cell_type": "markdown",
      "source": [
        "# Funções Fibonacci\n",
        "\n",
        "\n"
      ],
      "metadata": {
        "id": "kPNpzNYwkKAO"
      }
    },
    {
      "cell_type": "markdown",
      "source": [
        "## Recursivo"
      ],
      "metadata": {
        "id": "4DDCzIbCsLit"
      }
    },
    {
      "cell_type": "code",
      "source": [
        "def recursiveFibonacci(number):\n",
        "  if number == 0:\n",
        "    return 0\n",
        "  if number == 1:\n",
        "    return 1\n",
        "  return recursiveFibonacci(number - 1) + recursiveFibonacci(number - 2)"
      ],
      "metadata": {
        "id": "XnNYoYPesg-a"
      },
      "execution_count": 58,
      "outputs": []
    },
    {
      "cell_type": "markdown",
      "source": [
        "## Recursivo com Programação Dinâmica"
      ],
      "metadata": {
        "id": "lpD7InMwsLNV"
      }
    },
    {
      "cell_type": "code",
      "source": [
        "def getFibonacciFromMemory(number, memory):\n",
        "  if memory[number] is None:\n",
        "    memory[number] = getFibonacciFromMemory(number - 1, memory) + getFibonacciFromMemory(number - 2, memory)\n",
        "  \n",
        "  return memory[number]\n",
        "  \n",
        "\n",
        "def dynamicFibonacci(number):\n",
        "  memory = [None for n in range(number + 1)]\n",
        "  memory[0] = 0\n",
        "  memory[1] = 1\n",
        "\n",
        "  return getFibonacciFromMemory(number, memory)"
      ],
      "metadata": {
        "id": "Xybyz5iSshl_"
      },
      "execution_count": 59,
      "outputs": []
    },
    {
      "cell_type": "markdown",
      "source": [
        "# Comparação"
      ],
      "metadata": {
        "id": "rjoEE1YSsiD8"
      }
    },
    {
      "cell_type": "code",
      "source": [
        "xarray = []\n",
        "recursiveData = []\n",
        "dynamicData = []\n",
        "\n",
        "for number in range(2, 40):\n",
        "  xarray.append(number)\n",
        "  recursiveData.append(calculateExecutionTime(number, recursiveFibonacci))\n",
        "  dynamicData.append(calculateExecutionTime(number, dynamicFibonacci))\n",
        "\n",
        "\n",
        "generateGraph('Fibonacci Sequence', 'Number', 'Comparasions', [\n",
        "  {\n",
        "    'label': 'Recursive',\n",
        "    'color': 'blue',\n",
        "    'xarray': xarray,\n",
        "    'yarray': recursiveData\n",
        "  },\n",
        "\n",
        "  {\n",
        "    'label': 'Dynamic',\n",
        "    'color': 'red',\n",
        "    'xarray': xarray,\n",
        "    'yarray': dynamicData\n",
        "  }\n",
        "])"
      ],
      "metadata": {
        "colab": {
          "base_uri": "https://localhost:8080/",
          "height": 295
        },
        "id": "DoCPPGZZwXBU",
        "outputId": "7a674d0d-a615-4176-813a-030dc1e6dd8c"
      },
      "execution_count": 60,
      "outputs": [
        {
          "output_type": "display_data",
          "data": {
            "text/plain": [
              "<Figure size 432x288 with 1 Axes>"
            ],
            "image/png": "[encoded data removed]"
          },
          "metadata": {
            "needs_background": "light"
          }
        }
      ]
    }
  ]
}